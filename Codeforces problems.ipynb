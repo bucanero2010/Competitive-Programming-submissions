{
 "cells": [
  {
   "cell_type": "code",
   "execution_count": 26,
   "metadata": {},
   "outputs": [
    {
     "name": "stdout",
     "output_type": "stream",
     "text": [
      "2\n"
     ]
    }
   ],
   "source": [
    "n,x,y= [int(x) for x in input().split()]\n",
    "lista=[]\n",
    "for i in range(n):\n",
    "    x1,x2=[int(x) for x in input().split()]\n",
    "    lista.append(x1)\n",
    "    lista.append(x2)\n",
    "slope_list=[]\n",
    "for i in range(n):\n",
    "    x1=lista[i*2]\n",
    "    y1=lista[i*2+1]\n",
    "    if x1==x:\n",
    "        slope='xd'\n",
    "        slope_list.append(slope)\n",
    "    else:\n",
    "        slope=(y1-y)/(x1-x)\n",
    "        slope_list.append(slope)\n",
    "print(len(set(slope_list)))"
   ]
  },
  {
   "cell_type": "code",
   "execution_count": null,
   "metadata": {},
   "outputs": [],
   "source": [
    "#Contest Div 2 A\n",
    "n=int(input())\n",
    "for i in range(n):\n",
    "    m=int(input())\n",
    "    a=[int(x) for x in input().split()]\n",
    "    if a[0]+a[1]<=a[-1]:\n",
    "        print(1,2,m)\n",
    "    else:\n",
    "        print(-1)"
   ]
  },
  {
   "cell_type": "code",
   "execution_count": 26,
   "metadata": {},
   "outputs": [
    {
     "name": "stdout",
     "output_type": "stream",
     "text": [
      "5\n",
      "01111001\n",
      "4\n",
      "0000\n",
      "0\n",
      "111111\n",
      "6\n",
      "101010101\n",
      "3\n",
      "011011110111\n",
      "6\n"
     ]
    }
   ],
   "source": [
    "#Contest Div 2 B\n",
    "n=int(input())\n",
    "for i in range(n):\n",
    "    a=input()\n",
    "    b=0\n",
    "    puntaje=0\n",
    "    tests=[int(x) for x in a.split('0') if x !='']\n",
    "    while len(tests)>0:  \n",
    "        maximo=str(max(tests))\n",
    "        if b % 2 == 0:\n",
    "            puntaje=puntaje+len(str(max(tests)))\n",
    "        a=a.replace(maximo,'',1)\n",
    "        b=b+1\n",
    "        tests=[int(x) for x in a.split('0') if x !='']\n",
    "        \n",
    "    print(puntaje)"
   ]
  },
  {
   "cell_type": "code",
   "execution_count": 70,
   "metadata": {},
   "outputs": [
    {
     "name": "stdout",
     "output_type": "stream",
     "text": [
      "1\n",
      "3\n",
      "120\n",
      "3\n"
     ]
    }
   ],
   "source": [
    "#Contest Div 2 C\n",
    "n=int(input())\n",
    "for i in range(n):\n",
    "    m=int(input())\n",
    "    cadena=input()\n",
    "    lista=[]\n",
    "    contador=0\n",
    "    for d in cadena:\n",
    "        lista.append(int(d))\n",
    "    for h in range(m):\n",
    "        if lista[h]>0:\n",
    "            for j in range(lista[h],m+1):\n",
    "                if m-h<j:\n",
    "                    break\n",
    "                if sum(lista[h:h+j])==j:\n",
    "                    contador=contador+1\n",
    "        elif lista[h]==0:\n",
    "            for j in range(1,m):\n",
    "                if m-h<j:\n",
    "                    break\n",
    "                if sum(lista[h:h+j])==j:\n",
    "                    contador=contador+1\n",
    "    print(contador)"
   ]
  },
  {
   "cell_type": "code",
   "execution_count": 73,
   "metadata": {},
   "outputs": [
    {
     "name": "stdout",
     "output_type": "stream",
     "text": [
      "1\n",
      "2\n",
      "420 420\n",
      "2\n"
     ]
    }
   ],
   "source": [
    "n=int(input())\n",
    "for _ in range(n):\n",
    "    m=int(input())\n",
    "    a=[int(x) for x in input().split()]\n",
    "    while max(a)!=min(a):\n",
    "        for i in range(len(a)):\n",
    "            if a[i]!=a[i+1]:\n",
    "                a[i]=a[i]+a[i+1]\n",
    "                del(a[i+1])\n",
    "                break\n",
    "    print(len(a))\n",
    "                \n",
    "            \n",
    "        "
   ]
  },
  {
   "cell_type": "code",
   "execution_count": 38,
   "metadata": {},
   "outputs": [
    {
     "name": "stdout",
     "output_type": "stream",
     "text": [
      "1\n",
      "5 19\n",
      "5 -1 4 2 0\n",
      "0 6 1 3 5 "
     ]
    }
   ],
   "source": [
    "n=int(input())\n",
    "for _ in range(n):\n",
    "    m,k=[int(x) for x in input().split()]\n",
    "    a=[int(x) for x in input().split()]\n",
    "    d=max(a)\n",
    "    a1=[d-x for x in a]\n",
    "    d=max(a1)\n",
    "    a2=[d-x for x in a1]\n",
    "    if k%2==0:\n",
    "        for i in a2:\n",
    "            print(i,end=' ')\n",
    "    else:\n",
    "        for i in a1:\n",
    "            print(i,end=' ')"
   ]
  },
  {
   "cell_type": "code",
   "execution_count": 65,
   "metadata": {},
   "outputs": [
    {
     "name": "stdout",
     "output_type": "stream",
     "text": [
      "1\n",
      "7\n",
      "2 1 3 4 5 6 4\n",
      "3\n"
     ]
    }
   ],
   "source": [
    "n=int(input())\n",
    "for _ in range(n):\n",
    "    m=int(input())\n",
    "    a=[int(x) for x in input().split()]\n",
    "    lista=[0]\n",
    "    maximo=-1000\n",
    "    b={}\n",
    "    for i in range(m):\n",
    "        if a[i]>maximo:\n",
    "            maximo=a[i]\n",
    "            b[i]=max(max(lista),0)\n",
    "            lista=[]\n",
    "        lista.append(maximo-a[i])\n",
    "    b[m]=max(max(lista),0)\n",
    "    print(max(sum(b.values()),0))"
   ]
  },
  {
   "cell_type": "code",
   "execution_count": 94,
   "metadata": {},
   "outputs": [
    {
     "name": "stdout",
     "output_type": "stream",
     "text": [
      "1\n",
      "129\n",
      "LLLLLRRRRRRRRRLLLLLLLLLLRRRRRRRRRLRRRRRRRRRRLLLLLLLRRLLLLLLLRRRRLLLLLLLRRRRRRRRRLLLLLLRRLLLLLLLRRLLRRRRRRLLLLRRRRRRRRRRLLRRRRLLLR\n",
      "46\n"
     ]
    }
   ],
   "source": [
    "for _ in range(int(input())):\n",
    "    n=int(input())\n",
    "    a=[x for x in input()]\n",
    "    c=0\n",
    "    for i in range(n-1):\n",
    "        if (a[i-1]=='R' and a[i+1]=='R' and a[i]=='R'):\n",
    "            a[i]='L'\n",
    "            c=c+1\n",
    "        elif (a[i-1]=='L' and a[i+1]=='L' and a[i]=='L'):\n",
    "            a[i]='R'\n",
    "            c=c+1\n",
    "    print(c)"
   ]
  },
  {
   "cell_type": "code",
   "execution_count": null,
   "metadata": {},
   "outputs": [
    {
     "name": "stdout",
     "output_type": "stream",
     "text": [
      "1\n"
     ]
    }
   ],
   "source": [
    "for _ in range(int(input())):\n",
    "    n=int(input())\n",
    "    a=input()\n",
    "    a=a[-1]+a+a[0]\n",
    "    c=a.count('RRR')+a.count('LLL')\n",
    "    if (a[-1]+a[0:2]=='RRR' and a[-3:-1]=='RRR') or (a[-1]+a[0:2]=='LLL' and a[-3:-1]=='LLL'):\n",
    "        c=c-1\n",
    "    print(c)"
   ]
  },
  {
   "cell_type": "code",
   "execution_count": 26,
   "metadata": {},
   "outputs": [
    {
     "name": "stdout",
     "output_type": "stream",
     "text": [
      "5\n",
      "3 1\n",
      "1 1\n",
      "-1 0\n",
      "2 1\n",
      "3 0\n",
      "1 2 4 "
     ]
    }
   ],
   "source": [
    "d={}\n",
    "set_no=set({})\n",
    "for i in range(int(input())):\n",
    "    d[i+1]=[int(x) for x in input().split()]\n",
    "    if d[i+1][1]==0:\n",
    "        set_no.add(i+1)\n",
    "        set_no.add(d[i+1][0])\n",
    "dif=set(set(d.keys())-set_no)\n",
    "if dif==set():\n",
    "    print(-1)\n",
    "else:\n",
    "    for i in dif:\n",
    "        print(i,end=' ')"
   ]
  },
  {
   "cell_type": "code",
   "execution_count": 30,
   "metadata": {},
   "outputs": [
    {
     "name": "stdout",
     "output_type": "stream",
     "text": [
      "1\n",
      "1\n",
      "0\n"
     ]
    }
   ],
   "source": [
    "n=int(input())\n",
    "suma=0\n",
    "a=[int(x) for x in input().split()]\n",
    "sub_i=0\n",
    "sub_j=0\n",
    "m=sum(a)\n",
    "inicios=[]\n",
    "fines=[]\n",
    "if m%3!=0 or n<=2:\n",
    "    print(0)\n",
    "else:\n",
    "    for i in range(n):\n",
    "        if suma==(m/3) and i>=1 and i<=n-2:\n",
    "            sub_i=sub_i+1\n",
    "            inicios.append(i)\n",
    "        elif suma==2*(m/3) and i>=2 and i<=n-1:\n",
    "            sub_j=sub_j+1\n",
    "            fines.append(i)\n",
    "        suma=suma+a[i]\n",
    "    del(a,suma,n)\n",
    "    if m!=0:\n",
    "        print(len([1 for x in inicios for y in fines if y>x]))\n",
    "    else:\n",
    "        print(int((sub_i*(sub_i+1))/2))"
   ]
  },
  {
   "cell_type": "code",
   "execution_count": null,
   "metadata": {},
   "outputs": [],
   "source": [
    "n=int(input())\n",
    "suma=0\n",
    "a=[int(x) for x in input().split()]\n",
    "sub_i=0\n",
    "sub_j=0\n",
    "m=sum(a)\n",
    "inicios=[]\n",
    "fines=[]\n",
    "if m%3!=0 or n<=2:\n",
    "    print(0)\n",
    "else:\n",
    "    for i in range(n):   \n",
    "    \n",
    "        # Add current element to sum so far.  \n",
    "        currsum += a[i]  \n",
    "    \n",
    "        # If currsum is equal to desired sum,  \n",
    "        # then a new subarray is found. So  \n",
    "        # increase count of subarrays.  \n",
    "        if currsum == (m/3):   \n",
    "            res += 1         \n",
    "    \n",
    "        # currsum exceeds given sum by currsum  - sum. \n",
    "        # Find number of subarrays having   \n",
    "        # this sum and exclude those subarrays  \n",
    "        # from currsum by increasing count by   \n",
    "        # same amount.  \n",
    "        if (currsum - (m/3)) in prevSum: \n",
    "            res += prevSum[currsum - (m/3)]  \n",
    "            \n",
    "    \n",
    "        # Add currsum value to count of   \n",
    "        # different values of sum.  \n",
    "        prevSum[currsum] += 1 \n",
    "    if m!=0:\n",
    "        print(len([1 for x in inicios for y in fines if y>x]))\n",
    "    else:\n",
    "        print(int((sub_i*(sub_i+1))/2))"
   ]
  },
  {
   "cell_type": "code",
   "execution_count": 7,
   "metadata": {},
   "outputs": [
    {
     "name": "stdout",
     "output_type": "stream",
     "text": [
      "0 0\n"
     ]
    },
    {
     "ename": "ValueError",
     "evalue": "invalid literal for int() with base 10: '0 0'",
     "output_type": "error",
     "traceback": [
      "\u001b[1;31m---------------------------------------------------------------------------\u001b[0m",
      "\u001b[1;31mValueError\u001b[0m                                Traceback (most recent call last)",
      "\u001b[1;32m<ipython-input-7-99483c4544d4>\u001b[0m in \u001b[0;36m<module>\u001b[1;34m\u001b[0m\n\u001b[1;32m----> 1\u001b[1;33m \u001b[1;32mfor\u001b[0m \u001b[0m_\u001b[0m \u001b[1;32min\u001b[0m \u001b[0mrange\u001b[0m\u001b[1;33m(\u001b[0m\u001b[0mint\u001b[0m\u001b[1;33m(\u001b[0m\u001b[0minput\u001b[0m\u001b[1;33m(\u001b[0m\u001b[1;33m)\u001b[0m\u001b[1;33m)\u001b[0m\u001b[1;33m)\u001b[0m\u001b[1;33m:\u001b[0m\u001b[1;33m\u001b[0m\u001b[1;33m\u001b[0m\u001b[0m\n\u001b[0m\u001b[0;32m      2\u001b[0m     \u001b[0mn\u001b[0m\u001b[1;33m,\u001b[0m\u001b[0mk\u001b[0m\u001b[1;33m=\u001b[0m\u001b[1;33m[\u001b[0m\u001b[0mint\u001b[0m\u001b[1;33m(\u001b[0m\u001b[0mx\u001b[0m\u001b[1;33m)\u001b[0m \u001b[1;32mfor\u001b[0m \u001b[0mx\u001b[0m \u001b[1;32min\u001b[0m \u001b[0minput\u001b[0m\u001b[1;33m(\u001b[0m\u001b[1;33m)\u001b[0m\u001b[1;33m.\u001b[0m\u001b[0msplit\u001b[0m\u001b[1;33m(\u001b[0m\u001b[1;33m)\u001b[0m\u001b[1;33m]\u001b[0m\u001b[1;33m\u001b[0m\u001b[1;33m\u001b[0m\u001b[0m\n\u001b[0;32m      3\u001b[0m     \u001b[1;32mif\u001b[0m \u001b[0mk\u001b[0m\u001b[1;33m>=\u001b[0m\u001b[0mn\u001b[0m\u001b[1;33m:\u001b[0m\u001b[1;33m\u001b[0m\u001b[1;33m\u001b[0m\u001b[0m\n\u001b[0;32m      4\u001b[0m         \u001b[0mprint\u001b[0m\u001b[1;33m(\u001b[0m\u001b[0mabs\u001b[0m\u001b[1;33m(\u001b[0m\u001b[0mn\u001b[0m\u001b[1;33m-\u001b[0m\u001b[0mk\u001b[0m\u001b[1;33m)\u001b[0m\u001b[1;33m)\u001b[0m\u001b[1;33m\u001b[0m\u001b[1;33m\u001b[0m\u001b[0m\n\u001b[0;32m      5\u001b[0m     \u001b[1;32melif\u001b[0m \u001b[0mk\u001b[0m\u001b[1;33m==\u001b[0m\u001b[1;36m0\u001b[0m\u001b[1;33m:\u001b[0m\u001b[1;33m\u001b[0m\u001b[1;33m\u001b[0m\u001b[0m\n",
      "\u001b[1;31mValueError\u001b[0m: invalid literal for int() with base 10: '0 0'"
     ]
    }
   ],
   "source": [
    "for _ in range(int(input())):\n",
    "    n,k=[int(x) for x in input().split()]\n",
    "    if k>=n:\n",
    "        print(abs(n-k))\n",
    "    elif k==0:\n",
    "        if n%2==0:\n",
    "            print(0)\n",
    "        else:\n",
    "            print(1)\n",
    "    else:\n",
    "        if (abs(k-n)%2==0):\n",
    "            print(0)\n",
    "        else:\n",
    "            print(1)"
   ]
  },
  {
   "cell_type": "code",
   "execution_count": null,
   "metadata": {},
   "outputs": [],
   "source": [
    "for _ in range(int(input())):\n",
    "    a0,a1,a2=[int(x) for x in input().split()]\n",
    "    b0,b1,b2=[int(x) for x in input().split()]\n",
    "    print(min(a2,b1)*2+(b2>a0+(a2-min(a2,b1)))*min(b2-(a0+(a2-min(a2,b1))),a1)*-2)"
   ]
  },
  {
   "cell_type": "code",
   "execution_count": 12,
   "metadata": {},
   "outputs": [
    {
     "name": "stdout",
     "output_type": "stream",
     "text": [
      "1\n",
      "6\n",
      "4 3 6 6 2 9\n",
      "NO\n"
     ]
    }
   ],
   "source": [
    "import math\n",
    "for _ in range(int(input())):\n",
    "    n=int(input())\n",
    "    a=[int(x) for x in input().split()]\n",
    "    d=min(a)\n",
    "    maximo=a[0]\n",
    "    text='YES'\n",
    "    for i in range(1,n):\n",
    "        if a[i]<a[i-1]:\n",
    "            if math.gcd(a[i],maximo)==d:\n",
    "                text='NO'                \n",
    "            maximo=a[i]\n",
    "        if text=='NO':\n",
    "            break\n",
    "    print(text)\n",
    "            \n",
    "        \n",
    "        "
   ]
  },
  {
   "cell_type": "code",
   "execution_count": 46,
   "metadata": {},
   "outputs": [
    {
     "name": "stdout",
     "output_type": "stream",
     "text": [
      "8 8\n",
      "(()(()))\n",
      "(()(()))\n"
     ]
    }
   ],
   "source": [
    "n,k=[int(x) for x in input().split()]\n",
    "a=input()\n",
    "i=0\n",
    "contador=0\n",
    "while contador<(k/2):\n",
    "    if a[i]=='(':\n",
    "        contador=contador+1\n",
    "    i=i+1\n",
    "print(a[0:i]+(k-i)*')')"
   ]
  },
  {
   "cell_type": "code",
   "execution_count": 2,
   "metadata": {},
   "outputs": [
    {
     "name": "stdout",
     "output_type": "stream",
     "text": [
      "4 6\n",
      "3\n"
     ]
    }
   ],
   "source": [
    "n,m=[int(x) for x in input().split()]\n",
    "if n>=m:\n",
    "    print(n-m)\n",
    "else:\n",
    "    i=0\n",
    "    while n!=m:\n",
    "        if abs(m-(n-1))<=abs(m-2*n):\n",
    "            n=n-1\n",
    "            i=i+1\n",
    "        else:\n",
    "            n=2*n\n",
    "            i=i+1\n",
    "    print(i)"
   ]
  },
  {
   "cell_type": "code",
   "execution_count": 7,
   "metadata": {},
   "outputs": [
    {
     "name": "stdout",
     "output_type": "stream",
     "text": [
      "4\n",
      "1234\n",
      "6\n"
     ]
    }
   ],
   "source": [
    "n=int(input())\n",
    "a=[int(x) for x in input()]\n",
    "suma=0\n",
    "for i in range(n):\n",
    "    if a[i]%2 != 0:\n",
    "        suma=suma+(i+1)    \n",
    "print(int(((n*(n+1))/2)-suma))\n",
    "        "
   ]
  },
  {
   "cell_type": "code",
   "execution_count": 9,
   "metadata": {},
   "outputs": [
    {
     "name": "stdout",
     "output_type": "stream",
     "text": [
      "6\n",
      "1 2 3 4 5 6\n",
      "NO\n"
     ]
    }
   ],
   "source": [
    "n=int(input())\n",
    "a=[int(x) for x in input().split()]\n",
    "suma=sum(a)\n",
    "maximo=max(a)\n",
    "if (suma%2 != 0) or (suma-maximo)<maximo :\n",
    "    print('NO')\n",
    "else:\n",
    "    print('YES')\n",
    "    "
   ]
  },
  {
   "cell_type": "code",
   "execution_count": 23,
   "metadata": {},
   "outputs": [
    {
     "name": "stdout",
     "output_type": "stream",
     "text": [
      "1\n",
      "2\n",
      "caa\n",
      "cbb\n",
      "YES\n"
     ]
    }
   ],
   "source": [
    "for _ in range(int(input())):\n",
    "    flag=0\n",
    "    n=int(input())\n",
    "    a=''\n",
    "    for i in range(n):\n",
    "        a=a+input()\n",
    "    if len(a)%n!=0:\n",
    "        print('NO')\n",
    "    else:\n",
    "        for j in set(a):\n",
    "            if not(((a.count(j)%n)==0) or (a.count(j)==0)):\n",
    "                print('NO')\n",
    "                flag=1\n",
    "                break\n",
    "        if flag==0:\n",
    "            print('YES')\n",
    "            \n",
    "        "
   ]
  },
  {
   "cell_type": "code",
   "execution_count": 40,
   "metadata": {},
   "outputs": [
    {
     "name": "stdout",
     "output_type": "stream",
     "text": [
      "3\n",
      "1000000000 1000000000 1000000000\n",
      "1999982505\n"
     ]
    }
   ],
   "source": [
    "n=int(input())\n",
    "a=[int(x) for x in input().split()]\n",
    "a.sort()\n",
    "maximo=a[-1]\n",
    "e1=int(maximo**(1/(n-1)))\n",
    "e2=e1+1\n",
    "acumulado1=0\n",
    "acumulado2=0\n",
    "for i in range(n):\n",
    "    acumulado1=acumulado1+abs(a[i]-(e1**i))\n",
    "    acumulado2=acumulado2+abs(a[i]-(e2**i))\n",
    "print(min(acumulado1,acumulado2))"
   ]
  },
  {
   "cell_type": "code",
   "execution_count": null,
   "metadata": {},
   "outputs": [],
   "source": [
    "for _ in int(input()):\n",
    "    n=int(input())\n",
    "    a=[int(x) for x in input().split()]\n",
    "    anterior=-1\n",
    "    while "
   ]
  },
  {
   "cell_type": "code",
   "execution_count": 3,
   "metadata": {},
   "outputs": [
    {
     "name": "stdout",
     "output_type": "stream",
     "text": [
      "6\n",
      "5 5\n",
      "0\n",
      "13 42\n",
      "3\n",
      "18 4\n",
      "2\n",
      "1337 420\n",
      "92\n",
      "123456789 1000000000\n",
      "87654322\n",
      "100500 9000\n",
      "9150\n"
     ]
    }
   ],
   "source": [
    "for _ in range(int(input())):\n",
    "    a,b=[int(x) for x in input().split()]\n",
    "    if abs(a-b)%10 == 0:\n",
    "        print(int(abs(a-b)/10))\n",
    "    else:\n",
    "        print(int(abs(a-b)/10)+1)\n",
    "        \n",
    "    "
   ]
  },
  {
   "cell_type": "code",
   "execution_count": 6,
   "metadata": {},
   "outputs": [
    {
     "name": "stdout",
     "output_type": "stream",
     "text": [
      "5\n",
      "12 8 8 7 2\n",
      "77\n",
      "12343 43 4543 39 123212\n",
      "177177\n",
      "1000000000 1000000000 1 1 1\n",
      "999999999000000000\n",
      "1000000000 1000000000 1 1 1000000000\n",
      "999999999\n",
      "10 11 2 1 5\n",
      "55\n"
     ]
    }
   ],
   "source": [
    "for _ in range(int(input())):\n",
    "    a,b,x,y,n=[int(x) for x in input().split()]\n",
    "    resta = min(a-x,n)\n",
    "    resta2 = min(b-y,n)\n",
    "    if min(a-resta,b-resta2) == a-resta:\n",
    "        a = a-resta\n",
    "        n = n-resta\n",
    "        resta2 = min(b-y,n)\n",
    "        b = b-resta2\n",
    "    else:\n",
    "        b = b-resta2\n",
    "        n = n-resta2\n",
    "        resta = min(a-x,n)\n",
    "        a = a-resta\n",
    "    print(a*b)"
   ]
  },
  {
   "cell_type": "code",
   "execution_count": 20,
   "metadata": {},
   "outputs": [
    {
     "name": "stdout",
     "output_type": "stream",
     "text": [
      "1\n",
      "50 48 49\n",
      "1 2 3 4 5 6 7 8 9 10 11 12 13 14 15 16 17 18 19 20 21 22 23 24 25 26 27 28 29 30 31 32 33 34 35 36 37 38 39 40 41 42 43 44 45 46 47 48 49 50 "
     ]
    }
   ],
   "source": [
    "for _ in range(int(input())):\n",
    "    n,x,y=[int(x) for x in input().split()]\n",
    "    for i in range(y-x,0,-1):\n",
    "        if (y-x)%i==0 and i<=(n-1):\n",
    "            intervalos=i\n",
    "            break\n",
    "    k=int((y-x)/intervalos)\n",
    "    if n-1-intervalos>0:\n",
    "        if x>=k:\n",
    "            intervalos_minimo=min(n-1-intervalos,int(x/k))\n",
    "            minimo=x-intervalos_minimo*k\n",
    "            if minimo==0:\n",
    "                minimo=minimo+k\n",
    "                intervalos_minimo=intervalos_minimo-1\n",
    "            if n-1-intervalos-intervalos_minimo>0:\n",
    "                maximo=(n-1-intervalos-intervalos_minimo)*k+y\n",
    "            else:\n",
    "                maximo=y\n",
    "        \n",
    "        else:\n",
    "            minimo=x\n",
    "            maximo=y+(n-1-intervalos)*k\n",
    "    else:\n",
    "        minimo=x\n",
    "        maximo=y\n",
    "    for i in range(minimo, maximo+k,k):\n",
    "        print(i,end=' ')\n",
    "            "
   ]
  },
  {
   "cell_type": "code",
   "execution_count": 40,
   "metadata": {},
   "outputs": [
    {
     "name": "stdout",
     "output_type": "stream",
     "text": [
      "1\n",
      "313 5\n",
      "7\n"
     ]
    }
   ],
   "source": [
    "for _ in range(int(input())):\n",
    "    n,s=[int(x) for x in input().split()]\n",
    "    a=[int(x) for x in str(n)]\n",
    "    if sum(a)<=s:\n",
    "        print(0)\n",
    "    else:\n",
    "        acum=0\n",
    "        j=0\n",
    "        encontrado=-1\n",
    "        for i in range(len(a)-1,-1,-1):\n",
    "            if sum(a[0:i+1])+1<=s:\n",
    "                encontrado=i\n",
    "                break\n",
    "        if encontrado>=0:\n",
    "            print(10**(len(a[encontrado+1:]))-int(str(n)[encontrado+1:]))\n",
    "        else:\n",
    "            print(10**len(a)-int(str(n)))"
   ]
  }
 ],
 "metadata": {
  "kernelspec": {
   "display_name": "Python 3",
   "language": "python",
   "name": "python3"
  },
  "language_info": {
   "codemirror_mode": {
    "name": "ipython",
    "version": 3
   },
   "file_extension": ".py",
   "mimetype": "text/x-python",
   "name": "python",
   "nbconvert_exporter": "python",
   "pygments_lexer": "ipython3",
   "version": "3.7.3"
  }
 },
 "nbformat": 4,
 "nbformat_minor": 2
}
